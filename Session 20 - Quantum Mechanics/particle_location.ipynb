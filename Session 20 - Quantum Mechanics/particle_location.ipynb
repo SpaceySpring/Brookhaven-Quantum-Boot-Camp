{
 "cells": [
  {
   "cell_type": "code",
   "execution_count": 11,
   "metadata": {},
   "outputs": [
    {
     "name": "stdout",
     "output_type": "stream",
     "text": [
      "dots = 10,000\n",
      "act = 0.632121\n",
      "est = 0.633200\n",
      "err = 0.17077%\n"
     ]
    }
   ],
   "source": [
    "# particle_location\n",
    "\n",
    "from pathlib import Path\n",
    "\n",
    "import matplotlib.pyplot as plt\n",
    "import numpy as np\n",
    "from numba import float64, vectorize\n",
    "\n",
    "\n",
    "@vectorize([float64(float64, float64)], nopython=True)\n",
    "def halton(n, p):\n",
    "    h, f = 0, 1\n",
    "    while n > 0:\n",
    "        f = f / p\n",
    "        h += (n % p) * f\n",
    "        n = int(n / p)\n",
    "    return h\n",
    "\n",
    "\n",
    "def f(x, L, y):\n",
    "    return np.exp(-x / L) - y\n",
    "\n",
    "\n",
    "def g(x, L):\n",
    "    return 1 - np.exp(-x / L)\n",
    "\n",
    "\n",
    "def main():\n",
    "    L = 1\n",
    "    dots = 10000\n",
    "\n",
    "    x = halton(np.arange(dots), 2)\n",
    "    y = (halton(np.arange(dots), 3)) * 2\n",
    "\n",
    "    d = f(x, L, y)\n",
    "\n",
    "    act = g(1, L) - g(0, L)\n",
    "    # Sample area is (-2 to 2)x(0 to 5) = 20\n",
    "    est = np.count_nonzero(d >= 0.0) / dots * 2\n",
    "    err = np.abs((est - act) / act)\n",
    "\n",
    "    print(f\"dots = {dots:,}\")\n",
    "    print(f\"act = {act:.6f}\")\n",
    "    print(f\"est = {est:.6f}\")\n",
    "    print(f\"err = {err:.5%}\")\n",
    "\n",
    "\n",
    "main()\n"
   ]
  },
  {
   "cell_type": "code",
   "execution_count": 12,
   "metadata": {},
   "outputs": [
    {
     "name": "stdout",
     "output_type": "stream",
     "text": [
      "act = 0.632121\n"
     ]
    }
   ],
   "source": [
    "def g(x, L):\n",
    "    return 1 - np.exp(-x / L)\n",
    "\n",
    "\n",
    "L = 1\n",
    "dots = 10000\n",
    "\n",
    "x = halton(np.arange(dots), 2)\n",
    "\n",
    "act = g(1, L) - g(0, L)\n",
    "\n",
    "print(f\"act = {act:.6f}\")\n"
   ]
  }
 ],
 "metadata": {
  "kernelspec": {
   "display_name": "Python 3",
   "language": "python",
   "name": "python3"
  },
  "language_info": {
   "codemirror_mode": {
    "name": "ipython",
    "version": 3
   },
   "file_extension": ".py",
   "mimetype": "text/x-python",
   "name": "python",
   "nbconvert_exporter": "python",
   "pygments_lexer": "ipython3",
   "version": "3.12.3"
  }
 },
 "nbformat": 4,
 "nbformat_minor": 2
}
