{
 "cells": [
  {
   "cell_type": "code",
   "execution_count": 13,
   "metadata": {},
   "outputs": [
    {
     "data": {
      "text/latex": [
       "$\\displaystyle \\mathbf{Original\\:Matrix}=\\begin{bmatrix}1 &2 &3\\\\[1em]2 &7 &4\\\\[1em]3 &4 &9\\\\\\end{bmatrix}$"
      ],
      "text/plain": [
       "<IPython.core.display.Math object>"
      ]
     },
     "metadata": {},
     "output_type": "display_data"
    },
    {
     "data": {
      "text/latex": [
       "$\\displaystyle \\mathbf{Conjugate\\:Transpose}=\\begin{bmatrix}1 &2 &3\\\\[1em]2 &7 &4\\\\[1em]3 &4 &9\\\\\\end{bmatrix}$"
      ],
      "text/plain": [
       "<IPython.core.display.Math object>"
      ]
     },
     "metadata": {},
     "output_type": "display_data"
    },
    {
     "data": {
      "text/latex": [
       "$\\displaystyle \\mathbf{Inverse\\:Matrix}=\\begin{bmatrix}-11.75 &1.5 &3.25\\\\[1em]1.5 &0 &-\\frac{1}{2}\\\\[1em]3.25 &-\\frac{1}{2} &-0.75\\\\\\end{bmatrix}$"
      ],
      "text/plain": [
       "<IPython.core.display.Math object>"
      ]
     },
     "metadata": {},
     "output_type": "display_data"
    },
    {
     "data": {
      "text/latex": [
       "$\\displaystyle \\mathbf{Conjugate\\:Transpose\\:of\\:Inverse\\:Matrix}=\\begin{bmatrix}-11.75 &1.5 &3.25\\\\[1em]1.5 &0 &-\\frac{1}{2}\\\\[1em]3.25 &-\\frac{1}{2} &-0.75\\\\\\end{bmatrix}$"
      ],
      "text/plain": [
       "<IPython.core.display.Math object>"
      ]
     },
     "metadata": {},
     "output_type": "display_data"
    }
   ],
   "source": [
    "# hermitian_matrices.ipynb\n",
    "\n",
    "import numpy as np\n",
    "from qis102_utils import as_latex\n",
    "\n",
    "\n",
    "def Hermitian():\n",
    "    Hermitian = np.array([[1, 2, 3], [2, 7, 4], [3, 4, 9]])\n",
    "    return Hermitian\n",
    "\n",
    "\n",
    "display(as_latex(Hermitian(), prefix=r\"\\mathbf{Original\\:Matrix}=\"))\n",
    "\n",
    "trans = Hermitian().conj().T\n",
    "display(as_latex(trans, prefix=r\"\\mathbf{Conjugate\\:Transpose}=\"))\n",
    "\n",
    "inv = np.linalg.inv(Hermitian())\n",
    "display(as_latex(inv, prefix=r\"\\mathbf{Inverse\\:Matrix}=\"))\n",
    "\n",
    "trans_inv = inv.conj().T\n",
    "display(\n",
    "    as_latex(trans_inv, prefix=r\"\\mathbf{Conjugate\\:Transpose\\:of\\:Inverse\\:Matrix}=\")\n",
    ")\n"
   ]
  },
  {
   "cell_type": "code",
   "execution_count": 16,
   "metadata": {},
   "outputs": [
    {
     "data": {
      "text/latex": [
       "$\\displaystyle \\mathbf{Original\\:Matrix}=\\begin{bmatrix}1 &2 &3\\\\[1em]2 &7 &4\\\\[1em]3 &4 &9\\\\\\end{bmatrix}$"
      ],
      "text/plain": [
       "<IPython.core.display.Math object>"
      ]
     },
     "metadata": {},
     "output_type": "display_data"
    },
    {
     "data": {
      "text/latex": [
       "$\\displaystyle \\mathbf{Conjugate\\:Transpose}=\\begin{bmatrix}1 &2 &3\\\\[1em]2 &7 &4\\\\[1em]3 &4 &9\\\\\\end{bmatrix}$"
      ],
      "text/plain": [
       "<IPython.core.display.Math object>"
      ]
     },
     "metadata": {},
     "output_type": "display_data"
    },
    {
     "data": {
      "text/latex": [
       "$\\displaystyle \\mathbf{Power\\:Matrix}=\\begin{bmatrix}1 &4 &9\\\\[1em]4 &49 &16\\\\[1em]9 &16 &81\\\\\\end{bmatrix}$"
      ],
      "text/plain": [
       "<IPython.core.display.Math object>"
      ]
     },
     "metadata": {},
     "output_type": "display_data"
    },
    {
     "data": {
      "text/latex": [
       "$\\displaystyle \\mathbf{Conjugate\\:Transpose\\:of\\:Power\\:Matrix}=\\begin{bmatrix}1 &4 &9\\\\[1em]4 &49 &16\\\\[1em]9 &16 &81\\\\\\end{bmatrix}$"
      ],
      "text/plain": [
       "<IPython.core.display.Math object>"
      ]
     },
     "metadata": {},
     "output_type": "display_data"
    }
   ],
   "source": [
    "display(as_latex(Hermitian(), prefix=r\"\\mathbf{Original\\:Matrix}=\"))\n",
    "display(as_latex(trans, prefix=r\"\\mathbf{Conjugate\\:Transpose}=\"))\n",
    "\n",
    "power = Hermitian() ** 2\n",
    "display(as_latex(power, prefix=r\"\\mathbf{Power\\:Matrix}=\"))\n",
    "\n",
    "power_inv = power.conj().T\n",
    "display(\n",
    "    as_latex(power_inv, prefix=r\"\\mathbf{Conjugate\\:Transpose\\:of\\:Power\\:Matrix}=\")\n",
    ")\n"
   ]
  }
 ],
 "metadata": {
  "kernelspec": {
   "display_name": "Python 3",
   "language": "python",
   "name": "python3"
  },
  "language_info": {
   "codemirror_mode": {
    "name": "ipython",
    "version": 3
   },
   "file_extension": ".py",
   "mimetype": "text/x-python",
   "name": "python",
   "nbconvert_exporter": "python",
   "pygments_lexer": "ipython3",
   "version": "3.12.3"
  }
 },
 "nbformat": 4,
 "nbformat_minor": 2
}
