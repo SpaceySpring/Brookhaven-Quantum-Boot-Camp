{
 "cells": [
  {
   "cell_type": "code",
   "execution_count": 2,
   "metadata": {},
   "outputs": [
    {
     "data": {
      "text/latex": [
       "$\\displaystyle \\mathbf{F}=0=\\begin{bmatrix}1\\\\[1em]0\\\\\\end{bmatrix}$"
      ],
      "text/plain": [
       "<IPython.core.display.Math object>"
      ]
     },
     "metadata": {},
     "output_type": "display_data"
    },
    {
     "data": {
      "text/latex": [
       "$\\displaystyle \\mathbf{T}=1=\\begin{bmatrix}0\\\\[1em]1\\\\\\end{bmatrix}$"
      ],
      "text/plain": [
       "<IPython.core.display.Math object>"
      ]
     },
     "metadata": {},
     "output_type": "display_data"
    },
    {
     "data": {
      "text/latex": [
       "$\\displaystyle \\mathbf{NOT}=\\begin{bmatrix}0 &1\\\\[1em]1 &0\\\\\\end{bmatrix}$"
      ],
      "text/plain": [
       "<IPython.core.display.Math object>"
      ]
     },
     "metadata": {},
     "output_type": "display_data"
    },
    {
     "data": {
      "text/latex": [
       "$\\displaystyle \\mathbf{AND}=\\begin{bmatrix}1 &1 &1 &0\\\\[1em]0 &0 &0 &1\\\\\\end{bmatrix}$"
      ],
      "text/plain": [
       "<IPython.core.display.Math object>"
      ]
     },
     "metadata": {},
     "output_type": "display_data"
    },
    {
     "data": {
      "text/latex": [
       "$\\displaystyle \\mathbf{OR}=\\begin{bmatrix}1 &0 &0 &0\\\\[1em]0 &1 &1 &1\\\\\\end{bmatrix}$"
      ],
      "text/plain": [
       "<IPython.core.display.Math object>"
      ]
     },
     "metadata": {},
     "output_type": "display_data"
    }
   ],
   "source": [
    "# majority_vote\n",
    "\n",
    "# from simple circuits\n",
    "\n",
    "# Cell 1 - Define common Boolean states and gates\n",
    "\n",
    "import numpy as np\n",
    "from qis102_utils import as_latex\n",
    "\n",
    "f = np.array([[1], [0]])\n",
    "t = np.array([[0], [1]])\n",
    "\n",
    "g_not = np.array([[0, 1], [1, 0]])\n",
    "g_and = np.array([[1, 1, 1, 0], [0, 0, 0, 1]])\n",
    "g_or = np.array([[1, 0, 0, 0], [0, 1, 1, 1]])\n",
    "\n",
    "display(as_latex(f, prefix=r\"\\mathbf{F}=0=\"))\n",
    "display(as_latex(t, prefix=r\"\\mathbf{T}=1=\"))\n",
    "\n",
    "display(as_latex(g_not, prefix=r\"\\mathbf{NOT}=\"))\n",
    "display(as_latex(g_and, prefix=r\"\\mathbf{AND}=\"))\n",
    "display(as_latex(g_or, prefix=r\"\\mathbf{OR}=\"))\n"
   ]
  },
  {
   "cell_type": "code",
   "execution_count": 12,
   "metadata": {},
   "outputs": [
    {
     "name": "stdout",
     "output_type": "stream",
     "text": [
      "a: [1 0]  b: [1 0]  c: [1 0]  d: [1 0]  v: [1 0]\n",
      "a: [1 0]  b: [1 0]  c: [1 0]  d: [0 1]  v: [1 0]\n",
      "a: [1 0]  b: [1 0]  c: [0 1]  d: [1 0]  v: [1 0]\n",
      "a: [1 0]  b: [1 0]  c: [0 1]  d: [0 1]  v: [0 1]\n",
      "a: [1 0]  b: [0 1]  c: [1 0]  d: [1 0]  v: [1 0]\n",
      "a: [1 0]  b: [0 1]  c: [1 0]  d: [0 1]  v: [0 1]\n",
      "a: [1 0]  b: [0 1]  c: [0 1]  d: [1 0]  v: [0 1]\n",
      "a: [1 0]  b: [0 1]  c: [0 1]  d: [0 1]  v: [0 1]\n",
      "a: [0 1]  b: [1 0]  c: [1 0]  d: [1 0]  v: [1 0]\n",
      "a: [0 1]  b: [1 0]  c: [1 0]  d: [0 1]  v: [0 1]\n",
      "a: [0 1]  b: [1 0]  c: [0 1]  d: [1 0]  v: [0 1]\n",
      "a: [0 1]  b: [1 0]  c: [0 1]  d: [0 1]  v: [0 1]\n",
      "a: [0 1]  b: [0 1]  c: [1 0]  d: [1 0]  v: [0 1]\n",
      "a: [0 1]  b: [0 1]  c: [1 0]  d: [0 1]  v: [0 1]\n",
      "a: [0 1]  b: [0 1]  c: [0 1]  d: [1 0]  v: [0 1]\n",
      "a: [0 1]  b: [0 1]  c: [0 1]  d: [0 1]  v: [0 1]\n"
     ]
    }
   ],
   "source": [
    "# Cell 2 - Implement Boolean circuit using matrix algebra\n",
    "\n",
    "\n",
    "def circuit(a, b, c, d):\n",
    "    g1 = np.dot(g_and, np.kron(a, b))\n",
    "    g2 = np.dot(g_and, np.kron(a, c))\n",
    "    g3 = np.dot(g_and, np.kron(a, d))\n",
    "    g4 = np.dot(g_and, np.kron(b, c))\n",
    "    g5 = np.dot(g_and, np.kron(b, d))\n",
    "    g6 = np.dot(g_and, np.kron(c, d))\n",
    "    g7 = np.dot(g_or, np.kron(g1, g2))\n",
    "    g8 = np.dot(g_or, np.kron(g3, g4))\n",
    "    g9 = np.dot(g_or, np.kron(g5, g6))\n",
    "    g10 = np.dot(g_or, np.kron(g7, g8))\n",
    "    g11 = np.dot(g_or, np.kron(g9, g10))\n",
    "    return g11\n",
    "\n",
    "\n",
    "# Create truth table for three inputs and show the output\n",
    "for a in [f, t]:\n",
    "    for b in [f, t]:\n",
    "        for c in [f, t]:\n",
    "            for d in [f, t]:\n",
    "                print(f\"a: [{a[0][0]} {a[1][0]}]\", end=\"  \")\n",
    "                print(f\"b: [{b[0][0]} {b[1][0]}]\", end=\"  \")\n",
    "                print(f\"c: [{c[0][0]} {c[1][0]}]\", end=\"  \")\n",
    "                print(f\"d: [{d[0][0]} {d[1][0]}]\", end=\"  \")\n",
    "                v = circuit(a, b, c, d)\n",
    "                print(f\"v: [{v[0][0]} {v[1][0]}]\")\n"
   ]
  }
 ],
 "metadata": {
  "kernelspec": {
   "display_name": "Python 3",
   "language": "python",
   "name": "python3"
  },
  "language_info": {
   "codemirror_mode": {
    "name": "ipython",
    "version": 3
   },
   "file_extension": ".py",
   "mimetype": "text/x-python",
   "name": "python",
   "nbconvert_exporter": "python",
   "pygments_lexer": "ipython3",
   "version": "3.12.3"
  }
 },
 "nbformat": 4,
 "nbformat_minor": 2
}
