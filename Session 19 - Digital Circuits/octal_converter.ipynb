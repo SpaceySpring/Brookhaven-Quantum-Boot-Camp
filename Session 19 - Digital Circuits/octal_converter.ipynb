{
 "cells": [
  {
   "cell_type": "code",
   "execution_count": 15,
   "metadata": {},
   "outputs": [
    {
     "name": "stdout",
     "output_type": "stream",
     "text": [
      "2323 in binary = 1,235 in decimal\n"
     ]
    }
   ],
   "source": [
    "# octal_converter\n",
    "\n",
    "# In cell 1, convert the octal number 2323 to base 10\n",
    "# (decimal) by looping, and display both numbers\n",
    "\n",
    "import numpy as np\n",
    "\n",
    "\n",
    "def binary_to_decimal(b_str):\n",
    "    # Reverse string 'b' because the\n",
    "    # LSB must be in first position\n",
    "    b_str = b_str[::-1]\n",
    "    sum = 0\n",
    "    for position in range(len(b_str)):\n",
    "        weight = pow(8, position)  # changed the number to the base number\n",
    "        digit = int(b_str[position])\n",
    "        sum += digit * weight\n",
    "    return sum\n",
    "\n",
    "\n",
    "b_str = \"2323\"\n",
    "d = binary_to_decimal(b_str)\n",
    "print(f\"{b_str} in binary = {d:,} in decimal\")\n"
   ]
  },
  {
   "cell_type": "code",
   "execution_count": 16,
   "metadata": {},
   "outputs": [
    {
     "name": "stdout",
     "output_type": "stream",
     "text": [
      "1,235 in decimal = 2323 in binary\n"
     ]
    }
   ],
   "source": [
    "# In cell 2, convert the decimal number you calculated in cell 1\n",
    "# back to octal by looping, and display both numbers\n",
    "\n",
    "\n",
    "def decimal_to_binary(d):\n",
    "    b_str = \"\"\n",
    "    while d > 0:\n",
    "        b_str += str(d % 8)  # changed the number to the base number\n",
    "        d = int(d / 8)  # changed the number to the base number\n",
    "    # Reverse string 'b' because the\n",
    "    # LSB must be in first position\n",
    "    b_str = b_str[::-1]\n",
    "    return b_str\n",
    "\n",
    "\n",
    "d = 1235\n",
    "b_str = decimal_to_binary(d)\n",
    "print(f\"{d:,} in decimal = {b_str} in binary\")\n"
   ]
  },
  {
   "cell_type": "code",
   "execution_count": 17,
   "metadata": {},
   "outputs": [
    {
     "name": "stdout",
     "output_type": "stream",
     "text": [
      "2323 in binary = 1,235 in decimal\n"
     ]
    }
   ],
   "source": [
    "# In cell 3, convert the octal number 2323 to\n",
    "# base 10 (decimal) without looping and display both numbers\n",
    "\n",
    "\n",
    "b_str = \"2323\"\n",
    "d = int(b_str, 8)  # changed the number to the base number\n",
    "print(f\"{b_str} in binary = {d:,} in decimal\")\n"
   ]
  },
  {
   "cell_type": "code",
   "execution_count": 18,
   "metadata": {},
   "outputs": [
    {
     "name": "stdout",
     "output_type": "stream",
     "text": [
      "1,235 in decimal = 2323 in binary\n"
     ]
    }
   ],
   "source": [
    "# In cell 4, convert the decimal number you calculated in cell 3\n",
    "# back to octal without looping and display both numbers\n",
    "\n",
    "\n",
    "d = 1235\n",
    "b_str = np.base_repr(d, base=8)  # changed the number to the base number\n",
    "print(f\"{d:,} in decimal = {b_str} in binary\")\n"
   ]
  }
 ],
 "metadata": {
  "kernelspec": {
   "display_name": "Python 3",
   "language": "python",
   "name": "python3"
  },
  "language_info": {
   "codemirror_mode": {
    "name": "ipython",
    "version": 3
   },
   "file_extension": ".py",
   "mimetype": "text/x-python",
   "name": "python",
   "nbconvert_exporter": "python",
   "pygments_lexer": "ipython3",
   "version": "3.12.3"
  }
 },
 "nbformat": 4,
 "nbformat_minor": 2
}
